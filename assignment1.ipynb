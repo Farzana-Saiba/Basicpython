{
 "cells": [
  {
   "cell_type": "markdown",
   "id": "146a314b",
   "metadata": {},
   "source": [
    "1. Write a program that swaps the values of two variables."
   ]
  },
  {
   "cell_type": "code",
   "execution_count": null,
   "id": "bbf07e23",
   "metadata": {},
   "outputs": [],
   "source": [
    "x= int (input(\"enter your x :\"))\n",
    "y= int (input(\"enter your y :\")) \n",
    "\n",
    "output_1 =\"before swap : x = %d and y = %d\" %(x, y)\n",
    "print(output_1) \n",
    "\n",
    "x , y = y , x \n",
    "\n",
    "output_2 =\"After swap : x = %d and y = %d\" %(x, y)\n",
    "print(output_2) "
   ]
  },
  {
   "cell_type": "markdown",
   "id": "93f93df9",
   "metadata": {},
   "source": [
    "2. Write a program that calculates the area of a rectangle given its length and width."
   ]
  },
  {
   "cell_type": "code",
   "execution_count": null,
   "id": "068d91ab",
   "metadata": {},
   "outputs": [],
   "source": [
    "width = float (input(\"enter width :\")) \n",
    "\n",
    "length= float (input(\"enter length :\"))\n",
    "\n",
    "A=length * width\n",
    "\n",
    "Area=\"Area of the rectangle A= %d \"%A\n",
    "print(Area)"
   ]
  },
  {
   "cell_type": "markdown",
   "id": "d7b9b2f0",
   "metadata": {},
   "source": [
    "3. Write a program that converts temperature from Fahrenheit to Celsius."
   ]
  },
  {
   "cell_type": "code",
   "execution_count": null,
   "id": "62ed07e8",
   "metadata": {},
   "outputs": [],
   "source": [
    "F= float (input(\"enter Fahrenheit temp :\"))\n",
    "C= (F-32)*5/9\n",
    "\n",
    "Celsius_temp=\"After farhenheit convertion to celsius C =%f \"%C\n",
    "print (Celsius_temp)\n"
   ]
  },
  {
   "cell_type": "markdown",
   "id": "a8b2c9d2",
   "metadata": {},
   "source": [
    "4. Write a program that calculates the volume of a sphere given its radius.v=4/3*pi r3"
   ]
  },
  {
   "cell_type": "code",
   "execution_count": 1,
   "id": "155bd46a",
   "metadata": {},
   "outputs": [
    {
     "name": "stdout",
     "output_type": "stream",
     "text": [
      "enter radius :5\n",
      "volume of a sphere V = 523.598776\n"
     ]
    }
   ],
   "source": [
    "import math\n",
    "\n",
    "radius = float (input(\"enter radius :\"))\n",
    "V =(4/3)*math.pi*(radius**3)\n",
    "\n",
    "sphere_volume = \"volume of a sphere V = %f\" %V\n",
    "print (sphere_volume)\n",
    "\n"
   ]
  },
  {
   "cell_type": "markdown",
   "id": "7f8443df",
   "metadata": {},
   "source": [
    "5. Write a program that finds the average of three numbers.\n"
   ]
  },
  {
   "cell_type": "code",
   "execution_count": 2,
   "id": "21015360",
   "metadata": {},
   "outputs": [
    {
     "name": "stdout",
     "output_type": "stream",
     "text": [
      "enter first num:6\n",
      "enter second num:8\n",
      "enter second num:9\n",
      "average of three numbers result = 7.666667 \n"
     ]
    }
   ],
   "source": [
    "x = float (input(\"enter first num:\"))\n",
    "y = float (input(\"enter second num:\"))\n",
    "z = float (input(\"enter second num:\"))\n",
    "result =(x+y+z)/3\n",
    "\n",
    "Avrg_num = \"average of three numbers result = %f \" %result\n",
    "print (Avrg_num)"
   ]
  },
  {
   "cell_type": "markdown",
   "id": "a708a8c2",
   "metadata": {},
   "source": [
    "6. Write a program that determines if a number is even or odd."
   ]
  },
  {
   "cell_type": "code",
   "execution_count": null,
   "id": "5bd918c7",
   "metadata": {},
   "outputs": [],
   "source": [
    "num = int (input(\"enter the  num1 :\"))\n",
    "\n",
    "\n",
    "if num%2==0 :\n",
    "    \n",
    "    print(\"Given num is even\")\n",
    "else :\n",
    "    print(\"Given num is odd\")\n",
    "    "
   ]
  },
  {
   "cell_type": "markdown",
   "id": "c8d3fdf0",
   "metadata": {},
   "source": [
    " 7.Write a program that finds the maximum of three numbers."
   ]
  },
  {
   "cell_type": "code",
   "execution_count": null,
   "id": "cd86478f",
   "metadata": {},
   "outputs": [],
   "source": [
    "a = int (input(\"enter the  num1 :\"))\n",
    "b = int (input(\"enter the  num2 :\"))\n",
    "c = int (input(\"enter the  num3 :\"))\n",
    "\n",
    "if a > b  and a > c:\n",
    "    large_num = \"the largest num is %d \" %a\n",
    "    print ( large_num)\n",
    "elif b > a  and b > c :\n",
    "    large_num = \"the largest num is %d \" %b\n",
    "    print ( large_num)\n",
    "else :\n",
    "    large_num = \"the largest num is %d \" %c\n",
    "    print (large_num)\n",
    "   "
   ]
  },
  {
   "cell_type": "markdown",
   "id": "e4d6a586",
   "metadata": {},
   "source": [
    "9. Write a program that determines if a number is positive, negative, or zero.\n"
   ]
  },
  {
   "cell_type": "code",
   "execution_count": null,
   "id": "fb848bb3",
   "metadata": {},
   "outputs": [],
   "source": [
    "a = int(input(\"enter a num:\"))\n",
    "\n",
    "if a > 0 :\n",
    "    print( \"positive num\")\n",
    "elif a < 0 :\n",
    "    print (\"negative num\")\n",
    "    \n",
    "else :\n",
    "    print (\"zero\")\n",
    "    \n",
    "    "
   ]
  },
  {
   "cell_type": "markdown",
   "id": "7c669d3c",
   "metadata": {},
   "source": [
    "8. Write a program that determines if a year is a leap year or not."
   ]
  },
  {
   "cell_type": "code",
   "execution_count": null,
   "id": "da031981",
   "metadata": {},
   "outputs": [],
   "source": [
    "year = int(input(\"enter your year:\"))\n",
    "\n",
    "if (year % 100 ==0 and  year % 400 ==0 ) or(year % 100 !=0 and year % 4 ==0) :\n",
    "    leap_year = \"given year = %d is leap year\"%(year)\n",
    "    print (leap_year)\n",
    "    \n",
    "else :\n",
    "    \n",
    "    leap_year = \"given year year = %d is  not leap year\" %(year)\n",
    "    print (leap_year)\n",
    "\n"
   ]
  },
  {
   "cell_type": "code",
   "execution_count": null,
   "id": "64b27b38",
   "metadata": {},
   "outputs": [],
   "source": [
    "result = float(input (\"enter your num :\"))\n",
    "\n",
    "if result >= 90 :\n",
    "    print (\"grade A+\")\n",
    "    \n",
    "elif result >=80 and result < 90 :\n",
    "    print (\"ghrade B+\")\n",
    "    \n",
    "elif result >=70 and result < 80 :\n",
    "    print (\"grade B\")\n",
    "\n",
    "elif result >=60 and result < 70 :\n",
    "    print (\"grade C\")\n",
    "    \n",
    "elif result >=50 and result < 60 :\n",
    "    print (\"grade D\")\n",
    "    \n",
    "else :\n",
    "    print (\"garde F\")\n",
    "    \n"
   ]
  },
  {
   "cell_type": "markdown",
   "id": "d92aeb62",
   "metadata": {},
   "source": [
    "11. Write a program that prints the first `n` natural numbers"
   ]
  },
  {
   "cell_type": "code",
   "execution_count": null,
   "id": "2a7ddb9c",
   "metadata": {},
   "outputs": [],
   "source": [
    "NUM = int(input(\"enter a num:\"))\n",
    "\n",
    "for i in range (1,NUM +1):\n",
    "    print (i,end=\" \")"
   ]
  },
  {
   "cell_type": "markdown",
   "id": "c0a05ba3",
   "metadata": {},
   "source": [
    "12. Write a program that calculates the factorial of a number"
   ]
  },
  {
   "cell_type": "code",
   "execution_count": null,
   "id": "4421e80e",
   "metadata": {},
   "outputs": [],
   "source": [
    "num = int (input(\"enter the num :\"))\n",
    "factorial =1\n",
    " \n",
    "if  num == 0 :\n",
    "    factorial_num = \"factorial of entered num %d is  %d\"%(num,factorial)\n",
    "    print (factorial_num)\n",
    "else :\n",
    "    for i in range (1 , num+1):\n",
    "        factorial = factorial * i\n",
    "        \n",
    "    factorial_num = \"factorial of entered num %d is  %d\"%(num,factorial)\n",
    "    print (factorial_num)\n",
    "\n",
    "        "
   ]
  },
  {
   "cell_type": "markdown",
   "id": "b5e489d3",
   "metadata": {},
   "source": [
    "15. Write a program that prints the multiplication table of a given number"
   ]
  },
  {
   "cell_type": "code",
   "execution_count": null,
   "id": "62d6cce1",
   "metadata": {},
   "outputs": [],
   "source": [
    "num = int (input(\"enter the num :\"))\n",
    "for i in range (1,11) :\n",
    "    print (num ,\"x\" ,i, \"=\", num*i)"
   ]
  },
  {
   "cell_type": "markdown",
   "id": "c14a861a",
   "metadata": {},
   "source": [
    "14. Write a program that checks if a given number is prime or not.\n",
    "\n"
   ]
  },
  {
   "cell_type": "code",
   "execution_count": null,
   "id": "35b75d3c",
   "metadata": {},
   "outputs": [],
   "source": [
    "n = int(input(\"Enter the number:\"))\n",
    "\n",
    "if(n==2): \n",
    "    print(\"%d is a prime number\" %(n))\n",
    "\n",
    "elif(n==0 or n==1):\n",
    "    print(\"%d is not a prime number\" %(n))\n",
    "\n",
    "else:\n",
    "    count = 0\n",
    "    for i in range(2, int(n**0.5)+1):\n",
    "        if n%i==0:\n",
    "            count = ++1\n",
    "            \n",
    "    if(count == 0):\n",
    "        print(\"%d is a prime number\" %(n))\n",
    "    else:\n",
    "        print(\"%d is not a prime number\" %(n))"
   ]
  },
  {
   "cell_type": "markdown",
   "id": "96301c10",
   "metadata": {},
   "source": [
    "13. Write a program that generates a Fibonacci sequence of length `n`."
   ]
  },
  {
   "cell_type": "code",
   "execution_count": null,
   "id": "35965289",
   "metadata": {
    "scrolled": true
   },
   "outputs": [],
   "source": [
    "length= int(input(\"enter the length :\")) \n",
    "if length<=0:\n",
    "    print (\"enter a positive number \")\n",
    "else:\n",
    "    a,b=0,1\n",
    "    print(\"fibonacci sequence of length  %d is :\" %(length))\n",
    "    for i in range (length):\n",
    "        print(a,end=\" \")\n",
    "        a , b =b, a+b"
   ]
  },
  {
   "cell_type": "markdown",
   "id": "85a2a7ca",
   "metadata": {},
   "source": [
    "17. Write a program that reverses a given number."
   ]
  },
  {
   "cell_type": "code",
   "execution_count": null,
   "id": "ff89e109",
   "metadata": {},
   "outputs": [],
   "source": [
    "number = int(input(\"Enter the number:\"))\n",
    "\n",
    "reversed_number = 0\n",
    "while(number>0):\n",
    "    digit = number%10\n",
    "    reversed_number = reversed_number*10+digit\n",
    "    number = number//10\n",
    "\n",
    "print(\"Reversed Number:\",reversed_number)"
   ]
  },
  {
   "cell_type": "markdown",
   "id": "66079863",
   "metadata": {},
   "source": [
    "20. Write a program that finds the greatest common divisor (GCD) of two numbers"
   ]
  },
  {
   "cell_type": "code",
   "execution_count": null,
   "id": "15c1a75f",
   "metadata": {},
   "outputs": [],
   "source": [
    "num_1 = int(input(\"enter the first number:\" ))\n",
    "num_2 = int(input(\"enter the second number:\" ))\n",
    "\n",
    "while num_2 != 0 :\n",
    "    num_1, num_2= num_2, num_1 % num_2\n",
    "\n",
    "print(\"The GCD of the following two numbers:\", num_1)"
   ]
  },
  {
   "cell_type": "markdown",
   "id": "f99295be",
   "metadata": {},
   "source": [
    "18. Write a program that checks if a given string, is a palindrome.\n"
   ]
  },
  {
   "cell_type": "code",
   "execution_count": null,
   "id": "6f9660e6",
   "metadata": {},
   "outputs": [],
   "source": [
    "str = input(\"Enter a string:\")\n",
    "\n",
    "left = 0\n",
    "right = len(str)-1\n",
    "palindrome = True\n",
    "\n",
    "while(left<right):\n",
    "    if(str[left] != str[right]):\n",
    "        palindrome = False\n",
    "        break\n",
    "    left = ++1\n",
    "    right = --1\n",
    "\n",
    "if palindrome:\n",
    "    print(\"String %s is a palindrome\" %(str))\n",
    "\n",
    "else:\n",
    "    print(\"String %s is not a palindrome\" %(str))"
   ]
  },
  {
   "cell_type": "markdown",
   "id": "a95c08ba",
   "metadata": {},
   "source": [
    "16. Write a program that finds the sum of all even numbers between 1 and `n`."
   ]
  },
  {
   "cell_type": "code",
   "execution_count": null,
   "id": "5765b5a1",
   "metadata": {},
   "outputs": [],
   "source": [
    "num = int(input(\"Enter the number:\"))\n",
    "\n",
    "i = 2\n",
    "sum = 0\n",
    "while(i<=num):\n",
    "    sum = ++i\n",
    "    i +=2\n",
    "\n",
    "print(\"The sum of all even numbers between 1 and\",num,\"is:\", sum)"
   ]
  },
  {
   "cell_type": "code",
   "execution_count": null,
   "id": "b2975fee",
   "metadata": {},
   "outputs": [],
   "source": [
    "import random\n",
    "\n",
    "low = 0\n",
    "high = 100\n",
    "\n",
    "number = random.randint(low, high)\n",
    "\n",
    "while True:\n",
    "    guess = int(input(\"Enter a number between %d to %d :\"  %(low, high)))\n",
    "    if(guess<number):\n",
    "        print(\"%d is too low\" %(guess))\n",
    "\n",
    "    elif(guess>number):\n",
    "        print(\"%d is too high\" %(guess))\n",
    "\n",
    "    else:\n",
    "        print(\"%d is the correct guess!\" %(guess))\n",
    "        break"
   ]
  },
  {
   "cell_type": "code",
   "execution_count": null,
   "id": "3836eb0f",
   "metadata": {},
   "outputs": [],
   "source": []
  }
 ],
 "metadata": {
  "kernelspec": {
   "display_name": "Python 3 (ipykernel)",
   "language": "python",
   "name": "python3"
  },
  "language_info": {
   "codemirror_mode": {
    "name": "ipython",
    "version": 3
   },
   "file_extension": ".py",
   "mimetype": "text/x-python",
   "name": "python",
   "nbconvert_exporter": "python",
   "pygments_lexer": "ipython3",
   "version": "3.11.5"
  }
 },
 "nbformat": 4,
 "nbformat_minor": 5
}
